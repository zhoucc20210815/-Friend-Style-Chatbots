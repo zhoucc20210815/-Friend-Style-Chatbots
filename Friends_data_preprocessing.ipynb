{
 "cells": [
  {
   "cell_type": "markdown",
   "metadata": {},
   "source": [
    "## pre-processing dataset\n",
    "The dataset for this project comes from [Friends TV Show Script](https://www.kaggle.com/datasets/divyansh22/friends-tv-show-script?rvi=1). This Dataset contains the text file of scripts of all the episodes in the FRIENDS TV Show. So I need to do some preprocessing on the originating dataset."
   ]
  },
  {
   "cell_type": "code",
   "execution_count": 7,
   "metadata": {},
   "outputs": [],
   "source": [
    "import re\n",
    "\n",
    "input_file = 'dataset/Friends_Transcript.txt'\n",
    "output_file = 'dataset/Friends_lines.txt'\n",
    "\n",
    "# Import the original text file line by line, code reference source: https://www.freecodecamp.org/news/python-open-file-how-to-read-a-text-file-line-by-line/\n",
    "with open(input_file, 'r', encoding='utf-8') as inputfile:\n",
    "    lines = inputfile.readlines()\n",
    "\n",
    "# As it is a script, there is a lot of voice-over and scene introductions, so the sections in '()' and '[]' need to be removed.\n",
    "cleaned_lines = []\n",
    "for line in lines:\n",
    "    pattern = r'\\[[^]]*\\]|\\([^)]*\\)'\n",
    "    cleaned_line = re.sub(pattern, '', line)\n",
    "    cleaned_lines.append(cleaned_line)\n",
    "\n",
    "# There are titles of each episode and writers' names, and these need be removed as well.\n",
    "for i in range(len(cleaned_lines)):\n",
    "    # Find the scriptwriters and remove it.\n",
    "    if cleaned_lines[i].startswith('Written by:'):\n",
    "        cleaned_lines[i] = ''\n",
    "    # Find the scripttitles and remove it.\n",
    "    elif cleaned_lines[i].isupper():\n",
    "        cleaned_lines[i] = ''\n",
    "    # Remove some specific scene words.\n",
    "    elif cleaned_lines[i].startswith('Closing Credits'):\n",
    "        cleaned_lines[i] = ''\n",
    "    elif cleaned_lines[i].startswith('Commercial Break'):\n",
    "        cleaned_lines[i] = ''\n",
    "    elif cleaned_lines[i].startswith('End'):\n",
    "        cleaned_lines[i] = ''\n",
    "\n",
    "# At the beginning of each line there will be character names, these need to be removed as well.\n",
    "for i in range(len(cleaned_lines)):\n",
    "    # After I ran it I noticed that some of the lines in the dataset had two spaces following the colon, so it need to be handled before.\n",
    "    if ':  ' in cleaned_lines[i]:\n",
    "        cleaned_lines[i] = cleaned_lines[i].split(':  ', 1)[-1]\n",
    "    elif ': ' in cleaned_lines[i]:\n",
    "        cleaned_lines[i] = cleaned_lines[i].split(': ', 1)[-1]\n",
    "\n",
    "# I Found there are some lines only have ' ', so I need to remove them.\n",
    "for i in range(len(cleaned_lines)):\n",
    "    if cleaned_lines[i].startswith(' '):\n",
    "        cleaned_lines[i] = ''\n",
    "        \n",
    "# Finally remove the blank lines.\n",
    "final = []\n",
    "for line in cleaned_lines:\n",
    "    # At first I used \"!=\" to find blank lines, but I found that those lines have blank characters (such as spaces) would be treated as non-blank lines as well.\n",
    "   if line == '\\n':\n",
    "        line = line.strip('\\n')# So I finally chose to use strip(), code reference source: https://blog.csdn.net/qq_36756866/article/details/123073264\n",
    "   final.append(line)\n",
    "\n",
    "# Output Line-by-Line Text\n",
    "with open(output_file, 'w', encoding='utf-8') as outfile:\n",
    "    for line in final:\n",
    "        outfile.write(line)"
   ]
  },
  {
   "cell_type": "markdown",
   "metadata": {},
   "source": [
    "After creating the line-by-line text, continue to create the line-by-pair text."
   ]
  },
  {
   "cell_type": "code",
   "execution_count": 8,
   "metadata": {},
   "outputs": [],
   "source": [
    "input_file = \"dataset/Friends_lines.txt\"\n",
    "output_file = 'dataset/Friends_pairs.txt'\n",
    "\n",
    "with open(input_file, 'r', encoding='utf-8') as inputfile:\n",
    "    lines = inputfile.readlines()\n",
    "\n",
    "# Create pairs of sentences line by line\n",
    "pairs = []\n",
    "for i in range(len(lines) - 1):\n",
    "    # I found that there would be lots of space if no strip(), I don't know why, but ChatGPT told me to use the strip().\n",
    "    line1 = lines[i].strip()\n",
    "    line2 = lines[i + 1].strip()\n",
    "    pairs.append((line1, line2))\n",
    "\n",
    "# Output Line-by-Pair Text\n",
    "with open(output_file, 'w', encoding='utf-8') as outfile:\n",
    "    for pair in pairs:\n",
    "        outfile.write(pair[0] + '\\t' + pair[1] + '\\n')"
   ]
  }
 ],
 "metadata": {
  "kernelspec": {
   "display_name": "base",
   "language": "python",
   "name": "python3"
  },
  "language_info": {
   "codemirror_mode": {
    "name": "ipython",
    "version": 3
   },
   "file_extension": ".py",
   "mimetype": "text/x-python",
   "name": "python",
   "nbconvert_exporter": "python",
   "pygments_lexer": "ipython3",
   "version": "3.11.5"
  }
 },
 "nbformat": 4,
 "nbformat_minor": 2
}
