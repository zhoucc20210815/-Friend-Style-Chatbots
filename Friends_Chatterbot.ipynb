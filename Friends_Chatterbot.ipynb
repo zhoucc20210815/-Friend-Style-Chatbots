{
 "cells": [
  {
   "cell_type": "markdown",
   "metadata": {},
   "source": [
    "## ChatterBot"
   ]
  },
  {
   "cell_type": "markdown",
   "metadata": {},
   "source": [
    "This note runs on Python 3.8.18."
   ]
  },
  {
   "cell_type": "markdown",
   "metadata": {},
   "source": [
    "In the process of installing Chatterbot, I referred to the blog post by Eliauk&lucky, available [here](https://blog.csdn.net/qq_71388724/article/details/131281424)."
   ]
  },
  {
   "cell_type": "code",
   "execution_count": null,
   "metadata": {},
   "outputs": [],
   "source": [
    "!pip install chatterbot  \n",
    "!pip install chatterbot-corpus \n",
    "!pip install spacy  "
   ]
  },
  {
   "cell_type": "markdown",
   "metadata": {},
   "source": [
    "\n",
    "In implementing Chatterbot, I referenced Martin Breuss's tutorial: \"ChatterBot: Build a Chatbot With Python\", available [here](https://chat.openai.com/c/1a83ff09-1047-46a4-8036-b853730dfc7b)."
   ]
  },
  {
   "cell_type": "code",
   "execution_count": null,
   "metadata": {},
   "outputs": [],
   "source": [
    "from chatterbot import ChatBot\n",
    "from chatterbot.trainers import ListTrainer\n",
    "\n",
    "bot = ChatBot('ChatBot')\n",
    "trainer = ListTrainer(bot)\n",
    "\n",
    "conversations = []\n",
    "with open('dataset/Friends_lines.txt', 'r', encoding='utf-8') as file:\n",
    "    conversations = file.readlines()\n",
    "trainer.train(conversations)\n",
    "\n",
    "exit_conditions = (\":q\", \"quit\", \"exit\")\n",
    "while True:\n",
    "     query = input(\"> \")\n",
    "     if query in exit_conditions:\n",
    "        break\n",
    "     else:\n",
    "        print(f\"🪴 {bot.get_response(query)}\")"
   ]
  }
 ],
 "metadata": {
  "kernelspec": {
   "display_name": "chat",
   "language": "python",
   "name": "python3"
  },
  "language_info": {
   "codemirror_mode": {
    "name": "ipython",
    "version": 3
   },
   "file_extension": ".py",
   "mimetype": "text/x-python",
   "name": "python",
   "nbconvert_exporter": "python",
   "pygments_lexer": "ipython3",
   "version": "3.8.18"
  }
 },
 "nbformat": 4,
 "nbformat_minor": 2
}
